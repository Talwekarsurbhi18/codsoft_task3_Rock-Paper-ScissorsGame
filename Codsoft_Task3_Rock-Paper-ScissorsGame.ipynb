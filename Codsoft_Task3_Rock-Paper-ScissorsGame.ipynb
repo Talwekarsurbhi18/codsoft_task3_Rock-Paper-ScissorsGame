{
 "cells": [
  {
   "cell_type": "code",
   "execution_count": 1,
   "id": "82882112",
   "metadata": {},
   "outputs": [
    {
     "name": "stdout",
     "output_type": "stream",
     "text": [
      "\n",
      "Let's play Rock-Paper-Scissors!\n",
      "Choose Rock, Paper, or Scissors (or type 'quit' to exit): rock\n",
      "Your choice: Rock\n",
      "Computer's choice: Scissors\n",
      "You win!\n",
      "Choose Rock, Paper, or Scissors (or type 'quit' to exit): paper\n",
      "Your choice: Paper\n",
      "Computer's choice: Scissors\n",
      "Computer wins!\n",
      "Choose Rock, Paper, or Scissors (or type 'quit' to exit): scissors\n",
      "Your choice: Scissors\n",
      "Computer's choice: Paper\n",
      "You win!\n",
      "Choose Rock, Paper, or Scissors (or type 'quit' to exit): quit\n",
      "Thanks for playing! Goodbye!\n"
     ]
    }
   ],
   "source": [
    "import random\n",
    "\n",
    "print(\"\\nLet's play Rock-Paper-Scissors!\")\n",
    "choices = [\"rock\", \"paper\", \"scissors\"]\n",
    "\n",
    "while True:\n",
    "    user_choice = input(\"Choose Rock, Paper, or Scissors (or type 'quit' to exit): \").strip().lower()\n",
    "    if user_choice == \"quit\" or user_choice == \"exit\":\n",
    "        print(\"Thanks for playing! Goodbye!\")\n",
    "        break\n",
    "\n",
    "    if user_choice in choices:\n",
    "        computer_choice = random.choice(choices)\n",
    "        print(f\"Your choice: {user_choice.capitalize()}\")\n",
    "        print(f\"Computer's choice: {computer_choice.capitalize()}\")\n",
    "\n",
    "        if user_choice == computer_choice:\n",
    "            print(\"It's a tie!\")\n",
    "        elif (\n",
    "            (user_choice == \"rock\" and computer_choice == \"scissors\") or\n",
    "            (user_choice == \"paper\" and computer_choice == \"rock\") or\n",
    "            (user_choice == \"scissors\" and computer_choice == \"paper\")\n",
    "        ):\n",
    "            print(\"You win!\")\n",
    "        else:\n",
    "            print(\"Computer wins!\")\n",
    "    else:\n",
    "        print(\"Invalid choice. Please choose Rock, Paper, or Scissors or type 'quit' to exit.\")\n"
   ]
  },
  {
   "cell_type": "code",
   "execution_count": null,
   "id": "037166d6",
   "metadata": {},
   "outputs": [],
   "source": []
  }
 ],
 "metadata": {
  "kernelspec": {
   "display_name": "Python 3 (ipykernel)",
   "language": "python",
   "name": "python3"
  },
  "language_info": {
   "codemirror_mode": {
    "name": "ipython",
    "version": 3
   },
   "file_extension": ".py",
   "mimetype": "text/x-python",
   "name": "python",
   "nbconvert_exporter": "python",
   "pygments_lexer": "ipython3",
   "version": "3.8.10"
  }
 },
 "nbformat": 4,
 "nbformat_minor": 5
}
